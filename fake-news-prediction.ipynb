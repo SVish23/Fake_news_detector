{
 "cells": [
  {
   "cell_type": "markdown",
   "id": "b95d77ed",
   "metadata": {
    "papermill": {
     "duration": 0.006022,
     "end_time": "2025-05-24T08:21:26.127300",
     "exception": false,
     "start_time": "2025-05-24T08:21:26.121278",
     "status": "completed"
    },
    "tags": []
   },
   "source": [
    "### Import Libraries"
   ]
  },
  {
   "cell_type": "code",
   "execution_count": 1,
   "id": "94a55660",
   "metadata": {
    "execution": {
     "iopub.execute_input": "2025-05-24T08:21:26.139733Z",
     "iopub.status.busy": "2025-05-24T08:21:26.139301Z",
     "iopub.status.idle": "2025-05-24T08:21:31.111715Z",
     "shell.execute_reply": "2025-05-24T08:21:31.110549Z"
    },
    "papermill": {
     "duration": 4.980519,
     "end_time": "2025-05-24T08:21:31.113606",
     "exception": false,
     "start_time": "2025-05-24T08:21:26.133087",
     "status": "completed"
    },
    "tags": []
   },
   "outputs": [],
   "source": [
    "import numpy as np\n",
    "import pandas as pd\n",
    "import matplotlib.pyplot as plt\n",
    "import re\n",
    "import string\n",
    "from sklearn.model_selection import train_test_split\n",
    "from sklearn.feature_extraction.text import TfidfVectorizer\n",
    "from sklearn.linear_model import LogisticRegression\n",
    "from sklearn.metrics import accuracy_score,classification_report\n",
    "\n",
    "import nltk\n",
    "from nltk.corpus import stopwords\n",
    "from nltk.stem import WordNetLemmatizer\n",
    "from nltk.tokenize import word_tokenize"
   ]
  },
  {
   "cell_type": "markdown",
   "id": "902eb426",
   "metadata": {
    "papermill": {
     "duration": 0.005325,
     "end_time": "2025-05-24T08:21:31.124170",
     "exception": false,
     "start_time": "2025-05-24T08:21:31.118845",
     "status": "completed"
    },
    "tags": []
   },
   "source": [
    "### Load Data"
   ]
  },
  {
   "cell_type": "code",
   "execution_count": 2,
   "id": "9b9bfa64",
   "metadata": {
    "execution": {
     "iopub.execute_input": "2025-05-24T08:21:31.135823Z",
     "iopub.status.busy": "2025-05-24T08:21:31.135323Z",
     "iopub.status.idle": "2025-05-24T08:21:34.280709Z",
     "shell.execute_reply": "2025-05-24T08:21:34.279568Z"
    },
    "papermill": {
     "duration": 3.1535,
     "end_time": "2025-05-24T08:21:34.282693",
     "exception": false,
     "start_time": "2025-05-24T08:21:31.129193",
     "status": "completed"
    },
    "tags": []
   },
   "outputs": [],
   "source": [
    "true_df = pd.read_csv(\"/kaggle/input/fake-and-real-news-dataset/Fake.csv\")\n",
    "fake_df = pd.read_csv(\"/kaggle/input/fake-and-real-news-dataset/True.csv\")"
   ]
  },
  {
   "cell_type": "markdown",
   "id": "144491ba",
   "metadata": {
    "papermill": {
     "duration": 0.004959,
     "end_time": "2025-05-24T08:21:34.292895",
     "exception": false,
     "start_time": "2025-05-24T08:21:34.287936",
     "status": "completed"
    },
    "tags": []
   },
   "source": [
    "#### Split Both dataframes into features and target "
   ]
  },
  {
   "cell_type": "code",
   "execution_count": 3,
   "id": "5454f17e",
   "metadata": {
    "execution": {
     "iopub.execute_input": "2025-05-24T08:21:34.304153Z",
     "iopub.status.busy": "2025-05-24T08:21:34.303809Z",
     "iopub.status.idle": "2025-05-24T08:21:34.328513Z",
     "shell.execute_reply": "2025-05-24T08:21:34.327426Z"
    },
    "papermill": {
     "duration": 0.032395,
     "end_time": "2025-05-24T08:21:34.330273",
     "exception": false,
     "start_time": "2025-05-24T08:21:34.297878",
     "status": "completed"
    },
    "tags": []
   },
   "outputs": [],
   "source": [
    "true_df = true_df[[\"text\"]]\n",
    "true_df[\"target\"] = 1\n",
    "\n",
    "\n",
    "fake_df = fake_df[[\"text\"]]\n",
    "fake_df[\"target\"] = 0\n"
   ]
  },
  {
   "cell_type": "markdown",
   "id": "9e4211ad",
   "metadata": {
    "papermill": {
     "duration": 0.004736,
     "end_time": "2025-05-24T08:21:34.340034",
     "exception": false,
     "start_time": "2025-05-24T08:21:34.335298",
     "status": "completed"
    },
    "tags": []
   },
   "source": [
    "#### Concatenate true_df and fake_df"
   ]
  },
  {
   "cell_type": "code",
   "execution_count": 4,
   "id": "d009b9bf",
   "metadata": {
    "execution": {
     "iopub.execute_input": "2025-05-24T08:21:34.353199Z",
     "iopub.status.busy": "2025-05-24T08:21:34.352852Z",
     "iopub.status.idle": "2025-05-24T08:21:34.371973Z",
     "shell.execute_reply": "2025-05-24T08:21:34.370850Z"
    },
    "papermill": {
     "duration": 0.028329,
     "end_time": "2025-05-24T08:21:34.373835",
     "exception": false,
     "start_time": "2025-05-24T08:21:34.345506",
     "status": "completed"
    },
    "tags": []
   },
   "outputs": [],
   "source": [
    "df = pd.concat([fake_df,true_df]).sample(frac=1).reset_index(drop=True)"
   ]
  },
  {
   "cell_type": "code",
   "execution_count": 5,
   "id": "1d5aaaf3",
   "metadata": {
    "execution": {
     "iopub.execute_input": "2025-05-24T08:21:34.386062Z",
     "iopub.status.busy": "2025-05-24T08:21:34.385435Z",
     "iopub.status.idle": "2025-05-24T08:21:34.407473Z",
     "shell.execute_reply": "2025-05-24T08:21:34.406334Z"
    },
    "papermill": {
     "duration": 0.029866,
     "end_time": "2025-05-24T08:21:34.409262",
     "exception": false,
     "start_time": "2025-05-24T08:21:34.379396",
     "status": "completed"
    },
    "tags": []
   },
   "outputs": [
    {
     "data": {
      "text/html": [
       "<div>\n",
       "<style scoped>\n",
       "    .dataframe tbody tr th:only-of-type {\n",
       "        vertical-align: middle;\n",
       "    }\n",
       "\n",
       "    .dataframe tbody tr th {\n",
       "        vertical-align: top;\n",
       "    }\n",
       "\n",
       "    .dataframe thead th {\n",
       "        text-align: right;\n",
       "    }\n",
       "</style>\n",
       "<table border=\"1\" class=\"dataframe\">\n",
       "  <thead>\n",
       "    <tr style=\"text-align: right;\">\n",
       "      <th></th>\n",
       "      <th>text</th>\n",
       "      <th>target</th>\n",
       "    </tr>\n",
       "  </thead>\n",
       "  <tbody>\n",
       "    <tr>\n",
       "      <th>0</th>\n",
       "      <td>Speaking to Bill Maher about her participation...</td>\n",
       "      <td>1</td>\n",
       "    </tr>\n",
       "    <tr>\n",
       "      <th>1</th>\n",
       "      <td>How much more criminal activity are American v...</td>\n",
       "      <td>1</td>\n",
       "    </tr>\n",
       "    <tr>\n",
       "      <th>2</th>\n",
       "      <td>Conservatives talk the talk but can they walk ...</td>\n",
       "      <td>1</td>\n",
       "    </tr>\n",
       "    <tr>\n",
       "      <th>3</th>\n",
       "      <td>The Democratic candidates for the presidency, ...</td>\n",
       "      <td>1</td>\n",
       "    </tr>\n",
       "    <tr>\n",
       "      <th>4</th>\n",
       "      <td>Just imagine how many brilliant young American...</td>\n",
       "      <td>1</td>\n",
       "    </tr>\n",
       "  </tbody>\n",
       "</table>\n",
       "</div>"
      ],
      "text/plain": [
       "                                                text  target\n",
       "0  Speaking to Bill Maher about her participation...       1\n",
       "1  How much more criminal activity are American v...       1\n",
       "2  Conservatives talk the talk but can they walk ...       1\n",
       "3  The Democratic candidates for the presidency, ...       1\n",
       "4  Just imagine how many brilliant young American...       1"
      ]
     },
     "execution_count": 5,
     "metadata": {},
     "output_type": "execute_result"
    }
   ],
   "source": [
    "df.head()"
   ]
  },
  {
   "cell_type": "markdown",
   "id": "aa93877c",
   "metadata": {
    "papermill": {
     "duration": 0.005357,
     "end_time": "2025-05-24T08:21:34.420004",
     "exception": false,
     "start_time": "2025-05-24T08:21:34.414647",
     "status": "completed"
    },
    "tags": []
   },
   "source": [
    "### Clean Data"
   ]
  },
  {
   "cell_type": "markdown",
   "id": "ba5ba995",
   "metadata": {
    "papermill": {
     "duration": 0.005168,
     "end_time": "2025-05-24T08:21:34.430375",
     "exception": false,
     "start_time": "2025-05-24T08:21:34.425207",
     "status": "completed"
    },
    "tags": []
   },
   "source": [
    "#### Drop duplicates"
   ]
  },
  {
   "cell_type": "code",
   "execution_count": 6,
   "id": "1d01410e",
   "metadata": {
    "execution": {
     "iopub.execute_input": "2025-05-24T08:21:34.442127Z",
     "iopub.status.busy": "2025-05-24T08:21:34.441780Z",
     "iopub.status.idle": "2025-05-24T08:21:35.310225Z",
     "shell.execute_reply": "2025-05-24T08:21:35.308984Z"
    },
    "papermill": {
     "duration": 0.876346,
     "end_time": "2025-05-24T08:21:35.311851",
     "exception": false,
     "start_time": "2025-05-24T08:21:34.435505",
     "status": "completed"
    },
    "tags": []
   },
   "outputs": [
    {
     "name": "stdout",
     "output_type": "stream",
     "text": [
      "6251\n",
      "0\n"
     ]
    }
   ],
   "source": [
    "print(df.duplicated().sum())\n",
    "df = df.drop_duplicates()\n",
    "print(df.duplicated().sum())"
   ]
  },
  {
   "cell_type": "code",
   "execution_count": 7,
   "id": "45b62024",
   "metadata": {
    "execution": {
     "iopub.execute_input": "2025-05-24T08:21:35.324232Z",
     "iopub.status.busy": "2025-05-24T08:21:35.323926Z",
     "iopub.status.idle": "2025-05-24T08:21:35.338833Z",
     "shell.execute_reply": "2025-05-24T08:21:35.337920Z"
    },
    "papermill": {
     "duration": 0.023063,
     "end_time": "2025-05-24T08:21:35.340439",
     "exception": false,
     "start_time": "2025-05-24T08:21:35.317376",
     "status": "completed"
    },
    "tags": []
   },
   "outputs": [
    {
     "data": {
      "text/plain": [
       "text      0\n",
       "target    0\n",
       "dtype: int64"
      ]
     },
     "execution_count": 7,
     "metadata": {},
     "output_type": "execute_result"
    }
   ],
   "source": [
    "df.isna().sum()"
   ]
  },
  {
   "cell_type": "code",
   "execution_count": 8,
   "id": "21dc51f0",
   "metadata": {
    "execution": {
     "iopub.execute_input": "2025-05-24T08:21:35.353450Z",
     "iopub.status.busy": "2025-05-24T08:21:35.353108Z",
     "iopub.status.idle": "2025-05-24T08:21:35.358455Z",
     "shell.execute_reply": "2025-05-24T08:21:35.357202Z"
    },
    "papermill": {
     "duration": 0.01411,
     "end_time": "2025-05-24T08:21:35.360329",
     "exception": false,
     "start_time": "2025-05-24T08:21:35.346219",
     "status": "completed"
    },
    "tags": []
   },
   "outputs": [],
   "source": [
    "X = df[\"text\"]\n",
    "y = df[\"target\"]"
   ]
  },
  {
   "cell_type": "markdown",
   "id": "7bbaaacc",
   "metadata": {
    "papermill": {
     "duration": 0.005137,
     "end_time": "2025-05-24T08:21:35.371402",
     "exception": false,
     "start_time": "2025-05-24T08:21:35.366265",
     "status": "completed"
    },
    "tags": []
   },
   "source": [
    "#### Clean data with regular expressions"
   ]
  },
  {
   "cell_type": "code",
   "execution_count": 9,
   "id": "21bcf7bb",
   "metadata": {
    "execution": {
     "iopub.execute_input": "2025-05-24T08:21:35.384365Z",
     "iopub.status.busy": "2025-05-24T08:21:35.384044Z",
     "iopub.status.idle": "2025-05-24T08:21:35.391477Z",
     "shell.execute_reply": "2025-05-24T08:21:35.390560Z"
    },
    "papermill": {
     "duration": 0.016411,
     "end_time": "2025-05-24T08:21:35.393300",
     "exception": false,
     "start_time": "2025-05-24T08:21:35.376889",
     "status": "completed"
    },
    "tags": []
   },
   "outputs": [],
   "source": [
    "def standard(text):\n",
    "    text = text.lower()\n",
    "    text = re.sub('\\[.*?\\]', '', text)\n",
    "    text = re.sub(\"\\\\W\",\" \",text) \n",
    "    text = re.sub('https?://\\S+|www\\.\\S+', '', text)\n",
    "    text = re.sub('<.*?>+', '', text)\n",
    "    text = re.sub('[%s]' % re.escape(string.punctuation), '', text)\n",
    "    text = re.sub('\\n', '', text)\n",
    "    text = re.sub('\\w*\\d\\w*', '', text)    \n",
    "    #text = re.sub(\" reuters \",\"\",text)\n",
    "    text = re.sub(\"  \",\" \",text)\n",
    "\n",
    "    return text"
   ]
  },
  {
   "cell_type": "code",
   "execution_count": 10,
   "id": "09b0eb5e",
   "metadata": {
    "execution": {
     "iopub.execute_input": "2025-05-24T08:21:35.405664Z",
     "iopub.status.busy": "2025-05-24T08:21:35.405270Z",
     "iopub.status.idle": "2025-05-24T08:21:57.991979Z",
     "shell.execute_reply": "2025-05-24T08:21:57.990681Z"
    },
    "papermill": {
     "duration": 22.59518,
     "end_time": "2025-05-24T08:21:57.994037",
     "exception": false,
     "start_time": "2025-05-24T08:21:35.398857",
     "status": "completed"
    },
    "tags": []
   },
   "outputs": [],
   "source": [
    "X = X.apply(standard)"
   ]
  },
  {
   "cell_type": "code",
   "execution_count": 11,
   "id": "6c0223cf",
   "metadata": {
    "execution": {
     "iopub.execute_input": "2025-05-24T08:21:58.015297Z",
     "iopub.status.busy": "2025-05-24T08:21:58.014981Z",
     "iopub.status.idle": "2025-05-24T08:21:58.024046Z",
     "shell.execute_reply": "2025-05-24T08:21:58.022738Z"
    },
    "papermill": {
     "duration": 0.02142,
     "end_time": "2025-05-24T08:21:58.025924",
     "exception": false,
     "start_time": "2025-05-24T08:21:58.004504",
     "status": "completed"
    },
    "tags": []
   },
   "outputs": [
    {
     "data": {
      "text/plain": [
       "0        speaking to bill maher about her participation...\n",
       "1        how much more criminal activity are american v...\n",
       "2        conservatives talk the talk but can they walk ...\n",
       "3        the democratic candidates for the presidency b...\n",
       "4        just imagine how many brilliant young american...\n",
       "                               ...                        \n",
       "44891    washington reuters  mexico s economy minister ...\n",
       "44892    at the democratic presidential debate on thurs...\n",
       "44893    havana reuters  u s secretary of state john ke...\n",
       "44894    donald trump broke his twitter silence over ja...\n",
       "44895    a terror attack on the eu capital of brussels ...\n",
       "Name: text, Length: 38647, dtype: object"
      ]
     },
     "execution_count": 11,
     "metadata": {},
     "output_type": "execute_result"
    }
   ],
   "source": [
    "X"
   ]
  },
  {
   "cell_type": "code",
   "execution_count": 12,
   "id": "e399885b",
   "metadata": {
    "execution": {
     "iopub.execute_input": "2025-05-24T08:21:58.039356Z",
     "iopub.status.busy": "2025-05-24T08:21:58.039029Z",
     "iopub.status.idle": "2025-05-24T08:21:58.598807Z",
     "shell.execute_reply": "2025-05-24T08:21:58.597633Z"
    },
    "papermill": {
     "duration": 0.569064,
     "end_time": "2025-05-24T08:21:58.600677",
     "exception": false,
     "start_time": "2025-05-24T08:21:58.031613",
     "status": "completed"
    },
    "tags": []
   },
   "outputs": [
    {
     "name": "stderr",
     "output_type": "stream",
     "text": [
      "[nltk_data] Downloading package punkt_tab to /usr/share/nltk_data...\n",
      "[nltk_data]   Package punkt_tab is already up-to-date!\n",
      "[nltk_data] Downloading package punkt to /usr/share/nltk_data...\n",
      "[nltk_data]   Package punkt is already up-to-date!\n",
      "[nltk_data] Downloading package stopwords to /usr/share/nltk_data...\n",
      "[nltk_data]   Package stopwords is already up-to-date!\n",
      "[nltk_data] Downloading package wordnet to /usr/share/nltk_data...\n",
      "[nltk_data]   Package wordnet is already up-to-date!\n",
      "[nltk_data] Downloading package omw-1.4 to /usr/share/nltk_data...\n"
     ]
    },
    {
     "data": {
      "text/plain": [
       "True"
      ]
     },
     "execution_count": 12,
     "metadata": {},
     "output_type": "execute_result"
    }
   ],
   "source": [
    "nltk.download(\"punkt_tab\")\n",
    "nltk.download(\"punkt\")\n",
    "nltk.download(\"stopwords\")\n",
    "nltk.download(\"wordnet\")\n",
    "nltk.download('omw-1.4')"
   ]
  },
  {
   "cell_type": "markdown",
   "id": "2aaae11e",
   "metadata": {
    "papermill": {
     "duration": 0.005428,
     "end_time": "2025-05-24T08:21:58.611994",
     "exception": false,
     "start_time": "2025-05-24T08:21:58.606566",
     "status": "completed"
    },
    "tags": []
   },
   "source": [
    "#### Tokenize and Lemmatize text"
   ]
  },
  {
   "cell_type": "code",
   "execution_count": 13,
   "id": "dfd39604",
   "metadata": {
    "execution": {
     "iopub.execute_input": "2025-05-24T08:21:58.624684Z",
     "iopub.status.busy": "2025-05-24T08:21:58.624328Z",
     "iopub.status.idle": "2025-05-24T08:21:58.633860Z",
     "shell.execute_reply": "2025-05-24T08:21:58.632592Z"
    },
    "papermill": {
     "duration": 0.017824,
     "end_time": "2025-05-24T08:21:58.635514",
     "exception": false,
     "start_time": "2025-05-24T08:21:58.617690",
     "status": "completed"
    },
    "tags": []
   },
   "outputs": [],
   "source": [
    "stop_words = set(stopwords.words(\"english\"))\n",
    "lemmatizer = WordNetLemmatizer()\n",
    "\n",
    "def nltk_preprocess(text):\n",
    "    tokens = word_tokenize(text)\n",
    "    tokens = [t for t in tokens if t not in stop_words]\n",
    "    tokens = [t for t in tokens if t.isalpha()]\n",
    "    tokens = [lemmatizer.lemmatize(t) for t in tokens]\n",
    "    return ' '.join(tokens)"
   ]
  },
  {
   "cell_type": "code",
   "execution_count": 14,
   "id": "32ad1599",
   "metadata": {
    "execution": {
     "iopub.execute_input": "2025-05-24T08:21:58.648262Z",
     "iopub.status.busy": "2025-05-24T08:21:58.647954Z",
     "iopub.status.idle": "2025-05-24T08:23:30.337651Z",
     "shell.execute_reply": "2025-05-24T08:23:30.336613Z"
    },
    "papermill": {
     "duration": 91.697986,
     "end_time": "2025-05-24T08:23:30.339381",
     "exception": false,
     "start_time": "2025-05-24T08:21:58.641395",
     "status": "completed"
    },
    "tags": []
   },
   "outputs": [],
   "source": [
    "X = X.apply(nltk_preprocess)"
   ]
  },
  {
   "cell_type": "markdown",
   "id": "b8aba109",
   "metadata": {
    "papermill": {
     "duration": 0.005294,
     "end_time": "2025-05-24T08:23:30.350603",
     "exception": false,
     "start_time": "2025-05-24T08:23:30.345309",
     "status": "completed"
    },
    "tags": []
   },
   "source": [
    "### Split Data"
   ]
  },
  {
   "cell_type": "code",
   "execution_count": 15,
   "id": "eb3c1907",
   "metadata": {
    "execution": {
     "iopub.execute_input": "2025-05-24T08:23:30.363052Z",
     "iopub.status.busy": "2025-05-24T08:23:30.362708Z",
     "iopub.status.idle": "2025-05-24T08:23:30.376942Z",
     "shell.execute_reply": "2025-05-24T08:23:30.375910Z"
    },
    "papermill": {
     "duration": 0.022272,
     "end_time": "2025-05-24T08:23:30.378431",
     "exception": false,
     "start_time": "2025-05-24T08:23:30.356159",
     "status": "completed"
    },
    "tags": []
   },
   "outputs": [
    {
     "data": {
      "text/plain": [
       "((7729,), (30918,), (7729,), (30918,))"
      ]
     },
     "execution_count": 15,
     "metadata": {},
     "output_type": "execute_result"
    }
   ],
   "source": [
    "X_train, X_val, y_train, y_val = train_test_split(X,y,random_state=42,train_size=0.2)\n",
    "X_train.shape,X_val.shape,y_train.shape,y_val.shape"
   ]
  },
  {
   "cell_type": "markdown",
   "id": "5d92b002",
   "metadata": {
    "papermill": {
     "duration": 0.005488,
     "end_time": "2025-05-24T08:23:30.389755",
     "exception": false,
     "start_time": "2025-05-24T08:23:30.384267",
     "status": "completed"
    },
    "tags": []
   },
   "source": [
    "#### TF-IDF Vectorization"
   ]
  },
  {
   "cell_type": "code",
   "execution_count": 16,
   "id": "7ac5b106",
   "metadata": {
    "execution": {
     "iopub.execute_input": "2025-05-24T08:23:30.402393Z",
     "iopub.status.busy": "2025-05-24T08:23:30.401812Z",
     "iopub.status.idle": "2025-05-24T08:23:37.679433Z",
     "shell.execute_reply": "2025-05-24T08:23:37.678519Z"
    },
    "papermill": {
     "duration": 7.286109,
     "end_time": "2025-05-24T08:23:37.681346",
     "exception": false,
     "start_time": "2025-05-24T08:23:30.395237",
     "status": "completed"
    },
    "tags": []
   },
   "outputs": [],
   "source": [
    "vectorized = TfidfVectorizer()\n",
    "X_train_vectorized = vectorized.fit_transform(X_train)\n",
    "X_val_vectorized = vectorized.transform(X_val)"
   ]
  },
  {
   "cell_type": "markdown",
   "id": "ebaa5e63",
   "metadata": {
    "papermill": {
     "duration": 0.005534,
     "end_time": "2025-05-24T08:23:37.692965",
     "exception": false,
     "start_time": "2025-05-24T08:23:37.687431",
     "status": "completed"
    },
    "tags": []
   },
   "source": [
    "### Fit Model"
   ]
  },
  {
   "cell_type": "code",
   "execution_count": 17,
   "id": "19eff075",
   "metadata": {
    "execution": {
     "iopub.execute_input": "2025-05-24T08:23:37.705419Z",
     "iopub.status.busy": "2025-05-24T08:23:37.705128Z",
     "iopub.status.idle": "2025-05-24T08:23:39.430512Z",
     "shell.execute_reply": "2025-05-24T08:23:39.429597Z"
    },
    "papermill": {
     "duration": 1.733536,
     "end_time": "2025-05-24T08:23:39.432204",
     "exception": false,
     "start_time": "2025-05-24T08:23:37.698668",
     "status": "completed"
    },
    "tags": []
   },
   "outputs": [
    {
     "data": {
      "text/html": [
       "<style>#sk-container-id-1 {color: black;background-color: white;}#sk-container-id-1 pre{padding: 0;}#sk-container-id-1 div.sk-toggleable {background-color: white;}#sk-container-id-1 label.sk-toggleable__label {cursor: pointer;display: block;width: 100%;margin-bottom: 0;padding: 0.3em;box-sizing: border-box;text-align: center;}#sk-container-id-1 label.sk-toggleable__label-arrow:before {content: \"▸\";float: left;margin-right: 0.25em;color: #696969;}#sk-container-id-1 label.sk-toggleable__label-arrow:hover:before {color: black;}#sk-container-id-1 div.sk-estimator:hover label.sk-toggleable__label-arrow:before {color: black;}#sk-container-id-1 div.sk-toggleable__content {max-height: 0;max-width: 0;overflow: hidden;text-align: left;background-color: #f0f8ff;}#sk-container-id-1 div.sk-toggleable__content pre {margin: 0.2em;color: black;border-radius: 0.25em;background-color: #f0f8ff;}#sk-container-id-1 input.sk-toggleable__control:checked~div.sk-toggleable__content {max-height: 200px;max-width: 100%;overflow: auto;}#sk-container-id-1 input.sk-toggleable__control:checked~label.sk-toggleable__label-arrow:before {content: \"▾\";}#sk-container-id-1 div.sk-estimator input.sk-toggleable__control:checked~label.sk-toggleable__label {background-color: #d4ebff;}#sk-container-id-1 div.sk-label input.sk-toggleable__control:checked~label.sk-toggleable__label {background-color: #d4ebff;}#sk-container-id-1 input.sk-hidden--visually {border: 0;clip: rect(1px 1px 1px 1px);clip: rect(1px, 1px, 1px, 1px);height: 1px;margin: -1px;overflow: hidden;padding: 0;position: absolute;width: 1px;}#sk-container-id-1 div.sk-estimator {font-family: monospace;background-color: #f0f8ff;border: 1px dotted black;border-radius: 0.25em;box-sizing: border-box;margin-bottom: 0.5em;}#sk-container-id-1 div.sk-estimator:hover {background-color: #d4ebff;}#sk-container-id-1 div.sk-parallel-item::after {content: \"\";width: 100%;border-bottom: 1px solid gray;flex-grow: 1;}#sk-container-id-1 div.sk-label:hover label.sk-toggleable__label {background-color: #d4ebff;}#sk-container-id-1 div.sk-serial::before {content: \"\";position: absolute;border-left: 1px solid gray;box-sizing: border-box;top: 0;bottom: 0;left: 50%;z-index: 0;}#sk-container-id-1 div.sk-serial {display: flex;flex-direction: column;align-items: center;background-color: white;padding-right: 0.2em;padding-left: 0.2em;position: relative;}#sk-container-id-1 div.sk-item {position: relative;z-index: 1;}#sk-container-id-1 div.sk-parallel {display: flex;align-items: stretch;justify-content: center;background-color: white;position: relative;}#sk-container-id-1 div.sk-item::before, #sk-container-id-1 div.sk-parallel-item::before {content: \"\";position: absolute;border-left: 1px solid gray;box-sizing: border-box;top: 0;bottom: 0;left: 50%;z-index: -1;}#sk-container-id-1 div.sk-parallel-item {display: flex;flex-direction: column;z-index: 1;position: relative;background-color: white;}#sk-container-id-1 div.sk-parallel-item:first-child::after {align-self: flex-end;width: 50%;}#sk-container-id-1 div.sk-parallel-item:last-child::after {align-self: flex-start;width: 50%;}#sk-container-id-1 div.sk-parallel-item:only-child::after {width: 0;}#sk-container-id-1 div.sk-dashed-wrapped {border: 1px dashed gray;margin: 0 0.4em 0.5em 0.4em;box-sizing: border-box;padding-bottom: 0.4em;background-color: white;}#sk-container-id-1 div.sk-label label {font-family: monospace;font-weight: bold;display: inline-block;line-height: 1.2em;}#sk-container-id-1 div.sk-label-container {text-align: center;}#sk-container-id-1 div.sk-container {/* jupyter's `normalize.less` sets `[hidden] { display: none; }` but bootstrap.min.css set `[hidden] { display: none !important; }` so we also need the `!important` here to be able to override the default hidden behavior on the sphinx rendered scikit-learn.org. See: https://github.com/scikit-learn/scikit-learn/issues/21755 */display: inline-block !important;position: relative;}#sk-container-id-1 div.sk-text-repr-fallback {display: none;}</style><div id=\"sk-container-id-1\" class=\"sk-top-container\"><div class=\"sk-text-repr-fallback\"><pre>LogisticRegression(C=1, n_jobs=-1)</pre><b>In a Jupyter environment, please rerun this cell to show the HTML representation or trust the notebook. <br />On GitHub, the HTML representation is unable to render, please try loading this page with nbviewer.org.</b></div><div class=\"sk-container\" hidden><div class=\"sk-item\"><div class=\"sk-estimator sk-toggleable\"><input class=\"sk-toggleable__control sk-hidden--visually\" id=\"sk-estimator-id-1\" type=\"checkbox\" checked><label for=\"sk-estimator-id-1\" class=\"sk-toggleable__label sk-toggleable__label-arrow\">LogisticRegression</label><div class=\"sk-toggleable__content\"><pre>LogisticRegression(C=1, n_jobs=-1)</pre></div></div></div></div></div>"
      ],
      "text/plain": [
       "LogisticRegression(C=1, n_jobs=-1)"
      ]
     },
     "execution_count": 17,
     "metadata": {},
     "output_type": "execute_result"
    }
   ],
   "source": [
    "model = LogisticRegression(n_jobs=-1,C=1)\n",
    "model.fit(X_train_vectorized, y_train)"
   ]
  },
  {
   "cell_type": "code",
   "execution_count": 18,
   "id": "106036cf",
   "metadata": {
    "execution": {
     "iopub.execute_input": "2025-05-24T08:23:39.445663Z",
     "iopub.status.busy": "2025-05-24T08:23:39.445316Z",
     "iopub.status.idle": "2025-05-24T08:23:39.463637Z",
     "shell.execute_reply": "2025-05-24T08:23:39.462741Z"
    },
    "papermill": {
     "duration": 0.026775,
     "end_time": "2025-05-24T08:23:39.465340",
     "exception": false,
     "start_time": "2025-05-24T08:23:39.438565",
     "status": "completed"
    },
    "tags": []
   },
   "outputs": [],
   "source": [
    "prediction = model.predict(X_val_vectorized)"
   ]
  },
  {
   "cell_type": "code",
   "execution_count": 19,
   "id": "3fb972f9",
   "metadata": {
    "execution": {
     "iopub.execute_input": "2025-05-24T08:23:39.479029Z",
     "iopub.status.busy": "2025-05-24T08:23:39.478229Z",
     "iopub.status.idle": "2025-05-24T08:23:39.488575Z",
     "shell.execute_reply": "2025-05-24T08:23:39.487635Z"
    },
    "papermill": {
     "duration": 0.018807,
     "end_time": "2025-05-24T08:23:39.490147",
     "exception": false,
     "start_time": "2025-05-24T08:23:39.471340",
     "status": "completed"
    },
    "tags": []
   },
   "outputs": [
    {
     "data": {
      "text/plain": [
       "0.9758716605213791"
      ]
     },
     "execution_count": 19,
     "metadata": {},
     "output_type": "execute_result"
    }
   ],
   "source": [
    "accuracy_score(y_val,prediction)"
   ]
  },
  {
   "cell_type": "code",
   "execution_count": 20,
   "id": "dda6f420",
   "metadata": {
    "execution": {
     "iopub.execute_input": "2025-05-24T08:23:39.503565Z",
     "iopub.status.busy": "2025-05-24T08:23:39.503238Z",
     "iopub.status.idle": "2025-05-24T08:23:39.515849Z",
     "shell.execute_reply": "2025-05-24T08:23:39.514947Z"
    },
    "papermill": {
     "duration": 0.021054,
     "end_time": "2025-05-24T08:23:39.517384",
     "exception": false,
     "start_time": "2025-05-24T08:23:39.496330",
     "status": "completed"
    },
    "tags": []
   },
   "outputs": [
    {
     "data": {
      "text/plain": [
       "array([[16766,   238],\n",
       "       [  508, 13406]])"
      ]
     },
     "execution_count": 20,
     "metadata": {},
     "output_type": "execute_result"
    }
   ],
   "source": [
    "from sklearn.metrics import confusion_matrix\n",
    "confusion_matrix(y_val, prediction)"
   ]
  },
  {
   "cell_type": "markdown",
   "id": "ccbc38e2",
   "metadata": {
    "papermill": {
     "duration": 0.006014,
     "end_time": "2025-05-24T08:23:39.529874",
     "exception": false,
     "start_time": "2025-05-24T08:23:39.523860",
     "status": "completed"
    },
    "tags": []
   },
   "source": [
    "#### Confusion Matrix & Classification Report"
   ]
  },
  {
   "cell_type": "code",
   "execution_count": 21,
   "id": "24824321",
   "metadata": {
    "execution": {
     "iopub.execute_input": "2025-05-24T08:23:39.543919Z",
     "iopub.status.busy": "2025-05-24T08:23:39.543178Z",
     "iopub.status.idle": "2025-05-24T08:23:39.608419Z",
     "shell.execute_reply": "2025-05-24T08:23:39.607307Z"
    },
    "papermill": {
     "duration": 0.074298,
     "end_time": "2025-05-24T08:23:39.610275",
     "exception": false,
     "start_time": "2025-05-24T08:23:39.535977",
     "status": "completed"
    },
    "tags": []
   },
   "outputs": [
    {
     "name": "stdout",
     "output_type": "stream",
     "text": [
      "[[16766   238]\n",
      " [  508 13406]]\n",
      "              precision    recall  f1-score   support\n",
      "\n",
      "           0       0.97      0.99      0.98     17004\n",
      "           1       0.98      0.96      0.97     13914\n",
      "\n",
      "    accuracy                           0.98     30918\n",
      "   macro avg       0.98      0.97      0.98     30918\n",
      "weighted avg       0.98      0.98      0.98     30918\n",
      "\n"
     ]
    }
   ],
   "source": [
    "print(confusion_matrix(y_val, prediction))\n",
    "print(classification_report(y_val, prediction))"
   ]
  }
 ],
 "metadata": {
  "kaggle": {
   "accelerator": "none",
   "dataSources": [
    {
     "datasetId": 4831777,
     "sourceId": 8165591,
     "sourceType": "datasetVersion"
    }
   ],
   "dockerImageVersionId": 31040,
   "isGpuEnabled": false,
   "isInternetEnabled": true,
   "language": "python",
   "sourceType": "notebook"
  },
  "kernelspec": {
   "display_name": "Python 3",
   "language": "python",
   "name": "python3"
  },
  "language_info": {
   "codemirror_mode": {
    "name": "ipython",
    "version": 3
   },
   "file_extension": ".py",
   "mimetype": "text/x-python",
   "name": "python",
   "nbconvert_exporter": "python",
   "pygments_lexer": "ipython3",
   "version": "3.11.11"
  },
  "papermill": {
   "default_parameters": {},
   "duration": 141.444167,
   "end_time": "2025-05-24T08:23:42.237162",
   "environment_variables": {},
   "exception": null,
   "input_path": "__notebook__.ipynb",
   "output_path": "__notebook__.ipynb",
   "parameters": {},
   "start_time": "2025-05-24T08:21:20.792995",
   "version": "2.6.0"
  }
 },
 "nbformat": 4,
 "nbformat_minor": 5
}
